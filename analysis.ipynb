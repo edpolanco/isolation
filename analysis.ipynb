{
 "cells": [
  {
   "cell_type": "markdown",
   "metadata": {},
   "source": [
    "### Tournament Analysis\n",
    "> In this notebook we run three tournaments. "
   ]
  },
  {
   "cell_type": "code",
   "execution_count": 1,
   "metadata": {
    "collapsed": true
   },
   "outputs": [],
   "source": [
    "from tournament import *"
   ]
  },
  {
   "cell_type": "markdown",
   "metadata": {},
   "source": [
    "#### Define Tournament Function"
   ]
  },
  {
   "cell_type": "code",
   "execution_count": 2,
   "metadata": {
    "collapsed": true
   },
   "outputs": [],
   "source": [
    "def play_rounds(game_count:int, time_limit:int):\n",
    "    \"\"\" Runs a tournament for the given game count for each player \n",
    "       going first and given time limit in mili-seconds. \n",
    "        \n",
    "        For example if the game count is 5 then each\n",
    "        player will move first 5 times.  Making the total\n",
    "        games played for that round 10.\n",
    "        \n",
    "        Parameters\n",
    "        ------------\n",
    "        game_count: int\n",
    "            The number of games that each player will\n",
    "            go first.\n",
    "        \n",
    "        time_limit:\n",
    "            The alloted time per move in mili-seconds.\n",
    "    \"\"\"\n",
    "    \n",
    "    # Define two agents to compare -- these agents will play from the same\n",
    "    # starting position against the same adversaries in the tournament\n",
    "    test_agents = [\n",
    "        Agent(AlphaBetaPlayer(score_fn=improved_score), \"AB_Improved\"),\n",
    "        Agent(AlphaBetaPlayer(score_fn=custom_score), \"AB_Custom\"),\n",
    "        Agent(AlphaBetaPlayer(score_fn=custom_score_2), \"AB_Custom_2\"),\n",
    "        Agent(AlphaBetaPlayer(score_fn=custom_score_3), \"AB_Custom_3\")\n",
    "    ]\n",
    "\n",
    "    # Define a collection of agents to compete against the test agents\n",
    "    cpu_agents = [\n",
    "        Agent(RandomPlayer(), \"Random\"),\n",
    "        Agent(MinimaxPlayer(score_fn=open_move_score), \"MM_Open\"),\n",
    "        Agent(MinimaxPlayer(score_fn=center_score), \"MM_Center\"),\n",
    "        Agent(MinimaxPlayer(score_fn=improved_score), \"MM_Improved\"),\n",
    "        Agent(AlphaBetaPlayer(score_fn=open_move_score), \"AB_Open\"),\n",
    "        Agent(AlphaBetaPlayer(score_fn=center_score), \"AB_Center\"),\n",
    "        Agent(AlphaBetaPlayer(score_fn=improved_score), \"AB_Improved\")\n",
    "    ]\n",
    "    \n",
    "    print(DESCRIPTION)\n",
    "    print(\"{:^74}\".format(\"*************************\"))\n",
    "    print(\"{:^74}\".format(\"Playing Matches\"))\n",
    "    print(\"{:^74}\".format(\"*************************\"))\n",
    "    play_matches(cpu_agents, test_agents, game_count, time_limit)"
   ]
  },
  {
   "cell_type": "markdown",
   "metadata": {},
   "source": [
    "#### Round 1 - Matches 5  and Time Limit 150 Mili-Seconds "
   ]
  },
  {
   "cell_type": "code",
   "execution_count": 3,
   "metadata": {},
   "outputs": [
    {
     "name": "stdout",
     "output_type": "stream",
     "text": [
      "\n",
      "This script evaluates the performance of the custom_score evaluation\n",
      "function against a baseline agent using alpha-beta search and iterative\n",
      "deepening (ID) called `AB_Improved`. The three `AB_Custom` agents use\n",
      "ID and alpha-beta search with the custom_score functions defined in\n",
      "game_agent.py.\n",
      "\n",
      "                        *************************                         \n",
      "                             Playing Matches                              \n",
      "                        *************************                         \n",
      "\n",
      " Match #   Opponent    AB_Improved   AB_Custom   AB_Custom_2  AB_Custom_3 \n",
      "                        Won | Lost   Won | Lost   Won | Lost   Won | Lost \n",
      "    1       Random      10  |   0    10  |   0    10  |   0     8  |   2  \n",
      "    2       MM_Open      7  |   3    10  |   0     6  |   4     9  |   1  \n",
      "    3      MM_Center     8  |   2     7  |   3     6  |   4     6  |   4  \n",
      "    4     MM_Improved    0  |  10     3  |   7     5  |   5     4  |   6  \n",
      "    5       AB_Open      4  |   6     5  |   5     3  |   7     5  |   5  \n",
      "    6      AB_Center     5  |   5     6  |   4     7  |   3     5  |   5  \n",
      "    7     AB_Improved    6  |   4     5  |   5     5  |   5     4  |   6  \n",
      "--------------------------------------------------------------------------\n",
      "           Win Rate:      57.1%        65.7%        60.0%        58.6%    \n",
      "\n",
      "There were 41.0 timeouts during the tournament -- make sure your agent handles search timeout correctly, and consider increasing the timeout margin for your agent.\n",
      "\n",
      "\n",
      "Your agents forfeited 2.0 games while there were still legal moves available to play.\n",
      "\n"
     ]
    }
   ],
   "source": [
    "play_rounds(5,150)"
   ]
  },
  {
   "cell_type": "markdown",
   "metadata": {},
   "source": [
    "#### Round 2 - Matches 10  and Time Limit 200 Mili-Seconds "
   ]
  },
  {
   "cell_type": "code",
   "execution_count": 5,
   "metadata": {},
   "outputs": [
    {
     "name": "stdout",
     "output_type": "stream",
     "text": [
      "\n",
      "This script evaluates the performance of the custom_score evaluation\n",
      "function against a baseline agent using alpha-beta search and iterative\n",
      "deepening (ID) called `AB_Improved`. The three `AB_Custom` agents use\n",
      "ID and alpha-beta search with the custom_score functions defined in\n",
      "game_agent.py.\n",
      "\n",
      "                        *************************                         \n",
      "                             Playing Matches                              \n",
      "                        *************************                         \n",
      "\n",
      " Match #   Opponent    AB_Improved   AB_Custom   AB_Custom_2  AB_Custom_3 \n",
      "                        Won | Lost   Won | Lost   Won | Lost   Won | Lost \n",
      "    1       Random      20  |   0    19  |   1    17  |   3    20  |   0  \n",
      "    2       MM_Open     13  |   7    18  |   2    14  |   6    15  |   5  \n",
      "    3      MM_Center    16  |   4    17  |   3    17  |   3    16  |   4  \n",
      "    4     MM_Improved   15  |   5    13  |   7    16  |   4    14  |   6  \n",
      "    5       AB_Open     13  |   7    12  |   8    11  |   9     9  |  11  \n",
      "    6      AB_Center    11  |   9    13  |   7     7  |  13    11  |   9  \n",
      "    7     AB_Improved    9  |  11    11  |   9    10  |  10     7  |  13  \n",
      "--------------------------------------------------------------------------\n",
      "           Win Rate:      69.3%        73.6%        65.7%        65.7%    \n",
      "\n",
      "There were 19.0 timeouts during the tournament -- make sure your agent handles search timeout correctly, and consider increasing the timeout margin for your agent.\n",
      "\n"
     ]
    }
   ],
   "source": [
    "play_rounds(10,200)"
   ]
  },
  {
   "cell_type": "markdown",
   "metadata": {},
   "source": [
    "#### Round 3 - Matches 20  and Time Limit 200 Mili-Seconds "
   ]
  },
  {
   "cell_type": "code",
   "execution_count": 4,
   "metadata": {},
   "outputs": [
    {
     "name": "stdout",
     "output_type": "stream",
     "text": [
      "\n",
      "This script evaluates the performance of the custom_score evaluation\n",
      "function against a baseline agent using alpha-beta search and iterative\n",
      "deepening (ID) called `AB_Improved`. The three `AB_Custom` agents use\n",
      "ID and alpha-beta search with the custom_score functions defined in\n",
      "game_agent.py.\n",
      "\n",
      "                        *************************                         \n",
      "                             Playing Matches                              \n",
      "                        *************************                         \n",
      "\n",
      " Match #   Opponent    AB_Improved   AB_Custom   AB_Custom_2  AB_Custom_3 \n",
      "                        Won | Lost   Won | Lost   Won | Lost   Won | Lost \n",
      "    1       Random      37  |   3    36  |   4    37  |   3    38  |   2  \n",
      "    2       MM_Open     30  |  10    35  |   5    35  |   5    29  |  11  \n",
      "    3      MM_Center    37  |   3    37  |   3    33  |   7    37  |   3  \n",
      "    4     MM_Improved   24  |  16    31  |   9    29  |  11    28  |  12  \n",
      "    5       AB_Open     20  |  20    23  |  17    26  |  14    17  |  23  \n",
      "    6      AB_Center    22  |  18    24  |  16    26  |  14    24  |  16  \n",
      "    7     AB_Improved   20  |  20    23  |  17    18  |  22    25  |  15  \n",
      "--------------------------------------------------------------------------\n",
      "           Win Rate:      67.9%        74.6%        72.9%        70.7%    \n",
      "\n",
      "There were 3.0 timeouts during the tournament -- make sure your agent handles search timeout correctly, and consider increasing the timeout margin for your agent.\n",
      "\n"
     ]
    }
   ],
   "source": [
    "play_rounds(20,200)"
   ]
  }
 ],
 "metadata": {
  "kernelspec": {
   "display_name": "Python [conda env:aind]",
   "language": "python",
   "name": "conda-env-aind-py"
  },
  "language_info": {
   "codemirror_mode": {
    "name": "ipython",
    "version": 3
   },
   "file_extension": ".py",
   "mimetype": "text/x-python",
   "name": "python",
   "nbconvert_exporter": "python",
   "pygments_lexer": "ipython3",
   "version": "3.6.6"
  }
 },
 "nbformat": 4,
 "nbformat_minor": 2
}
